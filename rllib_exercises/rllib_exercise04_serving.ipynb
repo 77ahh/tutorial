{
 "cells": [
  {
   "cell_type": "markdown",
   "metadata": {},
   "source": [
    "# RL Exercise 4 - Online learning and bootstrapping from offline logs data\n",
    "\n",
    "**GOAL:** The goal of this exercise is to demonstrate set up a server that simultaneously serves and learns from a policy.\n",
    "\n",
    "To understand how to use **RLlib**, see the documentation at http://rllib.io.\n"
   ]
  },
  {
   "cell_type": "markdown",
   "metadata": {},
   "source": [
    "## Running a simple policy server"
   ]
  },
  {
   "cell_type": "markdown",
   "metadata": {},
   "source": [
    "Open a new terminal in Jupyter lab using the \"+\" button, and run:\n",
    "\n",
    "$ python serving/simple_policy_server.py --action-size=2 --observation-size=4"
   ]
  },
  {
   "cell_type": "markdown",
   "metadata": {},
   "source": [
    "## First, connect to the policy server you started and initialize an environment"
   ]
  },
  {
   "cell_type": "code",
   "execution_count": 4,
   "metadata": {},
   "outputs": [],
   "source": [
    "from ray.rllib.utils.policy_client import PolicyClient\n",
    "client = PolicyClient(\"http://localhost:8900\")"
   ]
  },
  {
   "cell_type": "code",
   "execution_count": 17,
   "metadata": {},
   "outputs": [
    {
     "name": "stdout",
     "output_type": "stream",
     "text": [
      "\u001b[33mWARN: gym.spaces.Box autodetected dtype as <class 'numpy.float32'>. Please provide explicit dtype.\u001b[0m\n"
     ]
    }
   ],
   "source": [
    "import gym\n",
    "\n",
    "env = gym.make(\"CartPole-v0\")\n",
    "obs = env.reset()"
   ]
  },
  {
   "cell_type": "markdown",
   "metadata": {},
   "source": [
    "Note that here we're using a gym environment, but in a real setting the environment would be the real application."
   ]
  },
  {
   "cell_type": "markdown",
   "metadata": {},
   "source": [
    "## Policy client documentation\n",
    "\n",
    "https://ray.readthedocs.io/en/latest/rllib-package-ref.html#ray.rllib.utils.PolicyClient"
   ]
  },
  {
   "cell_type": "code",
   "execution_count": 13,
   "metadata": {},
   "outputs": [
    {
     "name": "stdout",
     "output_type": "stream",
     "text": [
      "9004f13eb5f247a993c7d09db5e9e647\n",
      "Request failed {'observation': array([-0.0330313 , -0.03470947,  0.02084536,  0.02032465]), 'episode_id': '9004f13eb5f247a993c7d09db5e9e647', 'command': 'GET_ACTION'}\n",
      "Server: SimpleHTTP/0.6 Python/3.5.2\n",
      "Date: Thu, 27 Sep 2018 04:55:44 GMT\n",
      "Connection: close\n",
      "Content-Type: text/html;charset=utf-8\n",
      "Content-Length: 1168\n",
      "\n",
      "<!DOCTYPE HTML PUBLIC \"-//W3C//DTD HTML 4.01//EN\"\n",
      "        \"http://www.w3.org/TR/html4/strict.dtd\">\n",
      "<html>\n",
      "    <head>\n",
      "        <meta http-equiv=\"Content-Type\" content=\"text/html;charset=utf-8\">\n",
      "        <title>Error response</title>\n",
      "    </head>\n",
      "    <body>\n",
      "        <h1>Error response</h1>\n",
      "        <p>Error code: 500</p>\n",
      "        <p>Message: Traceback (most recent call last):\n",
      "  File \"/home/eric/Desktop/ray-private/python/ray/rllib/utils/policy_server.py\", line 65, in do_POST\n",
      "    response = self.execute_command(parsed_input)\n",
      "  File \"/home/eric/Desktop/ray-private/python/ray/rllib/utils/policy_server.py\", line 80, in execute_command\n",
      "    args[\"episode_id\"], args[\"observation\"])\n",
      "  File \"/home/eric/Desktop/ray-private/python/ray/rllib/env/serving_env.py\", line 111, in get_action\n",
      "    return episode.wait_for_action(observation)\n",
      "  File \"/home/eric/Desktop/ray-private/python/ray/rllib/env/serving_env.py\", line 197, in wait_for_action\n",
      "    return self.action_queue.get(True, timeout=60.0)\n",
      "  File \"/usr/lib/python3.5/queue.py\", line 172, in get\n",
      "    raise Empty\n",
      "queue.Empty\n",
      ".</p>\n",
      "        <p>Error code explanation: 500 - Server got itself in trouble.</p>\n",
      "    </body>\n",
      "</html>\n",
      "\n"
     ]
    },
    {
     "ename": "HTTPError",
     "evalue": "500 Server Error: Traceback (most recent call last): for url: http://localhost:8900/",
     "output_type": "error",
     "traceback": [
      "\u001b[0;31m---------------------------------------------------------------------------\u001b[0m",
      "\u001b[0;31mHTTPError\u001b[0m                                 Traceback (most recent call last)",
      "\u001b[0;32m<ipython-input-13-ce5628385605>\u001b[0m in \u001b[0;36m<module>\u001b[0;34m()\u001b[0m\n\u001b[1;32m      1\u001b[0m \u001b[0mepisode_id\u001b[0m \u001b[0;34m=\u001b[0m \u001b[0mclient\u001b[0m\u001b[0;34m.\u001b[0m\u001b[0mstart_episode\u001b[0m\u001b[0;34m(\u001b[0m\u001b[0;34m)\u001b[0m\u001b[0;34m\u001b[0m\u001b[0m\n\u001b[1;32m      2\u001b[0m \u001b[0mprint\u001b[0m\u001b[0;34m(\u001b[0m\u001b[0mepisode_id\u001b[0m\u001b[0;34m)\u001b[0m\u001b[0;34m\u001b[0m\u001b[0m\n\u001b[0;32m----> 3\u001b[0;31m \u001b[0maction\u001b[0m \u001b[0;34m=\u001b[0m \u001b[0mclient\u001b[0m\u001b[0;34m.\u001b[0m\u001b[0mget_action\u001b[0m\u001b[0;34m(\u001b[0m\u001b[0mepisode_id\u001b[0m\u001b[0;34m,\u001b[0m \u001b[0mobs\u001b[0m\u001b[0;34m)\u001b[0m\u001b[0;34m\u001b[0m\u001b[0m\n\u001b[0m\u001b[1;32m      4\u001b[0m \u001b[0mprint\u001b[0m\u001b[0;34m(\u001b[0m\u001b[0maction\u001b[0m\u001b[0;34m)\u001b[0m\u001b[0;34m\u001b[0m\u001b[0m\n",
      "\u001b[0;32m~/Desktop/ray-private/python/ray/rllib/utils/policy_client.py\u001b[0m in \u001b[0;36mget_action\u001b[0;34m(self, episode_id, observation)\u001b[0m\n\u001b[1;32m     57\u001b[0m             \u001b[0;34m\"command\"\u001b[0m\u001b[0;34m:\u001b[0m \u001b[0mPolicyClient\u001b[0m\u001b[0;34m.\u001b[0m\u001b[0mGET_ACTION\u001b[0m\u001b[0;34m,\u001b[0m\u001b[0;34m\u001b[0m\u001b[0m\n\u001b[1;32m     58\u001b[0m             \u001b[0;34m\"observation\"\u001b[0m\u001b[0;34m:\u001b[0m \u001b[0mobservation\u001b[0m\u001b[0;34m,\u001b[0m\u001b[0;34m\u001b[0m\u001b[0m\n\u001b[0;32m---> 59\u001b[0;31m             \u001b[0;34m\"episode_id\"\u001b[0m\u001b[0;34m:\u001b[0m \u001b[0mepisode_id\u001b[0m\u001b[0;34m,\u001b[0m\u001b[0;34m\u001b[0m\u001b[0m\n\u001b[0m\u001b[1;32m     60\u001b[0m         })[\"action\"]\n\u001b[1;32m     61\u001b[0m \u001b[0;34m\u001b[0m\u001b[0m\n",
      "\u001b[0;32m~/Desktop/ray-private/python/ray/rllib/utils/policy_client.py\u001b[0m in \u001b[0;36m_send\u001b[0;34m(self, data)\u001b[0m\n\u001b[1;32m    112\u001b[0m             \u001b[0mprint\u001b[0m\u001b[0;34m(\u001b[0m\u001b[0;34m\"Request failed\"\u001b[0m\u001b[0;34m,\u001b[0m \u001b[0mdata\u001b[0m\u001b[0;34m)\u001b[0m\u001b[0;34m\u001b[0m\u001b[0m\n\u001b[1;32m    113\u001b[0m             \u001b[0mprint\u001b[0m\u001b[0;34m(\u001b[0m\u001b[0mresponse\u001b[0m\u001b[0;34m.\u001b[0m\u001b[0mtext\u001b[0m\u001b[0;34m)\u001b[0m\u001b[0;34m\u001b[0m\u001b[0m\n\u001b[0;32m--> 114\u001b[0;31m         \u001b[0mresponse\u001b[0m\u001b[0;34m.\u001b[0m\u001b[0mraise_for_status\u001b[0m\u001b[0;34m(\u001b[0m\u001b[0;34m)\u001b[0m\u001b[0;34m\u001b[0m\u001b[0m\n\u001b[0m\u001b[1;32m    115\u001b[0m         \u001b[0mparsed\u001b[0m \u001b[0;34m=\u001b[0m \u001b[0mpickle\u001b[0m\u001b[0;34m.\u001b[0m\u001b[0mloads\u001b[0m\u001b[0;34m(\u001b[0m\u001b[0mresponse\u001b[0m\u001b[0;34m.\u001b[0m\u001b[0mcontent\u001b[0m\u001b[0;34m)\u001b[0m\u001b[0;34m\u001b[0m\u001b[0m\n\u001b[1;32m    116\u001b[0m         \u001b[0;32mreturn\u001b[0m \u001b[0mparsed\u001b[0m\u001b[0;34m\u001b[0m\u001b[0m\n",
      "\u001b[0;32m/usr/local/lib/python3.5/dist-packages/requests/models.py\u001b[0m in \u001b[0;36mraise_for_status\u001b[0;34m(self)\u001b[0m\n\u001b[1;32m    937\u001b[0m \u001b[0;34m\u001b[0m\u001b[0m\n\u001b[1;32m    938\u001b[0m         \u001b[0;32mif\u001b[0m \u001b[0mhttp_error_msg\u001b[0m\u001b[0;34m:\u001b[0m\u001b[0;34m\u001b[0m\u001b[0m\n\u001b[0;32m--> 939\u001b[0;31m             \u001b[0;32mraise\u001b[0m \u001b[0mHTTPError\u001b[0m\u001b[0;34m(\u001b[0m\u001b[0mhttp_error_msg\u001b[0m\u001b[0;34m,\u001b[0m \u001b[0mresponse\u001b[0m\u001b[0;34m=\u001b[0m\u001b[0mself\u001b[0m\u001b[0;34m)\u001b[0m\u001b[0;34m\u001b[0m\u001b[0m\n\u001b[0m\u001b[1;32m    940\u001b[0m \u001b[0;34m\u001b[0m\u001b[0m\n\u001b[1;32m    941\u001b[0m     \u001b[0;32mdef\u001b[0m \u001b[0mclose\u001b[0m\u001b[0;34m(\u001b[0m\u001b[0mself\u001b[0m\u001b[0;34m)\u001b[0m\u001b[0;34m:\u001b[0m\u001b[0;34m\u001b[0m\u001b[0m\n",
      "\u001b[0;31mHTTPError\u001b[0m: 500 Server Error: Traceback (most recent call last): for url: http://localhost:8900/"
     ]
    }
   ],
   "source": [
    "episode_id = client.start_episode()\n",
    "print(episode_id)\n",
    "action = client.get_action(episode_id, obs)\n",
    "print(action)"
   ]
  },
  {
   "cell_type": "code",
   "execution_count": 10,
   "metadata": {},
   "outputs": [
    {
     "ename": "SyntaxError",
     "evalue": "invalid syntax (<ipython-input-10-7f0bb5b22a99>, line 4)",
     "output_type": "error",
     "traceback": [
      "\u001b[0;36m  File \u001b[0;32m\"<ipython-input-10-7f0bb5b22a99>\"\u001b[0;36m, line \u001b[0;32m4\u001b[0m\n\u001b[0;31m    episode_id =  # TODO call start episode to get a new episode id\u001b[0m\n\u001b[0m                                                                   ^\u001b[0m\n\u001b[0;31mSyntaxError\u001b[0m\u001b[0;31m:\u001b[0m invalid syntax\n"
     ]
    }
   ],
   "source": [
    "def run_one_episode(env):\n",
    "    obs = env.reset()\n",
    "    done = False\n",
    "    episode_id =  # TODO call start episode to get a new episode id\n",
    "    total_reward = 0\n",
    "    while not done:\n",
    "        action =  # TODO call get_action to get the action for the current observation\n",
    "        obs, rew, done, info = env.step(action)\n",
    "        # TODO tell the server about the recent returns of the action\n",
    "        if done:\n",
    "            # TODO tell the server the episode ended\n",
    "        total_reward += rew\n",
    "    print(\"Episode reward\", total_reward)"
   ]
  },
  {
   "cell_type": "code",
   "execution_count": null,
   "metadata": {},
   "outputs": [],
   "source": [
    "run_one_episode(env)"
   ]
  },
  {
   "cell_type": "code",
   "execution_count": 14,
   "metadata": {},
   "outputs": [
    {
     "ename": "NameError",
     "evalue": "name 'run_one_episode' is not defined",
     "output_type": "error",
     "traceback": [
      "\u001b[0;31m---------------------------------------------------------------------------\u001b[0m",
      "\u001b[0;31mNameError\u001b[0m                                 Traceback (most recent call last)",
      "\u001b[0;32m<ipython-input-14-33d66d384611>\u001b[0m in \u001b[0;36m<module>\u001b[0;34m()\u001b[0m\n\u001b[1;32m      1\u001b[0m \u001b[0;32mfor\u001b[0m \u001b[0m_\u001b[0m \u001b[0;32min\u001b[0m \u001b[0mrange\u001b[0m\u001b[0;34m(\u001b[0m\u001b[0;36m100\u001b[0m\u001b[0;34m)\u001b[0m\u001b[0;34m:\u001b[0m\u001b[0;34m\u001b[0m\u001b[0m\n\u001b[0;32m----> 2\u001b[0;31m     \u001b[0mrun_one_episode\u001b[0m\u001b[0;34m(\u001b[0m\u001b[0;34m)\u001b[0m\u001b[0;34m\u001b[0m\u001b[0m\n\u001b[0m",
      "\u001b[0;31mNameError\u001b[0m: name 'run_one_episode' is not defined"
     ]
    }
   ],
   "source": [
    "for _ in range(100):\n",
    "    run_one_episode()"
   ]
  },
  {
   "cell_type": "code",
   "execution_count": 16,
   "metadata": {},
   "outputs": [],
   "source": [
    "## Now with Pong"
   ]
  },
  {
   "cell_type": "code",
   "execution_count": 18,
   "metadata": {},
   "outputs": [
    {
     "ename": "SyntaxError",
     "evalue": "invalid syntax (<ipython-input-18-3c24f527ec48>, line 1)",
     "output_type": "error",
     "traceback": [
      "\u001b[0;36m  File \u001b[0;32m\"<ipython-input-18-3c24f527ec48>\"\u001b[0;36m, line \u001b[0;32m1\u001b[0m\n\u001b[0;31m    This will take forever to learn. Fortunately, we have provided you with a database of past Pong experiences that your policy can learn from (recall that DQN is an off-policy algorithm\u001b[0m\n\u001b[0m            ^\u001b[0m\n\u001b[0;31mSyntaxError\u001b[0m\u001b[0;31m:\u001b[0m invalid syntax\n"
     ]
    }
   ],
   "source": [
    "This will take forever to learn. Fortunately, we have provided you with a database of past Pong experiences that your policy can learn from\n",
    "(recall that DQN is an off-policy algorithm and hence can take advantage of these past experiences).\n",
    "\n",
    "Note that here we send the logs to the RLlib server over HTTP. RLlib also allows data to be ingested in parallel from many workers:\n",
    "to do that, you'll have to subclass ServingEnv directly instead of going through the provided server.\n",
    "\n",
    "data open(logs).read()\n",
    "\n",
    "for _ in range(1000):\n",
    "   run_one_episode(pong_env)\n",
    "\n",
    "In a few minutes you should start seeing performance go up to a few hundred mean reward. You'll notice playing in the web UI the agent steadily gets better as well!"
   ]
  },
  {
   "cell_type": "code",
   "execution_count": null,
   "metadata": {},
   "outputs": [],
   "source": []
  }
 ],
 "metadata": {
  "kernelspec": {
   "display_name": "Python 3",
   "language": "python",
   "name": "python3"
  },
  "language_info": {
   "codemirror_mode": {
    "name": "ipython",
    "version": 3
   },
   "file_extension": ".py",
   "mimetype": "text/x-python",
   "name": "python",
   "nbconvert_exporter": "python",
   "pygments_lexer": "ipython3",
   "version": "3.5.2"
  }
 },
 "nbformat": 4,
 "nbformat_minor": 2
}
